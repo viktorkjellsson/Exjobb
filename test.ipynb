{
 "cells": [
  {
   "cell_type": "code",
   "execution_count": 3,
   "metadata": {},
   "outputs": [
    {
     "name": "stdout",
     "output_type": "stream",
     "text": [
      "2009-03-30 12:00:00\n"
     ]
    }
   ],
   "source": [
    "import pandas as pd\n",
    "\n",
    "def convert_time_index(time_index):\n",
    "    \"\"\"\n",
    "    Converts a numeric time index (YYYYMMDDHHMMSS) into a datetime object.\n",
    "\n",
    "    Parameters:\n",
    "    time_index (int or str): The time index in YYYYMMDDHHMMSS format.\n",
    "\n",
    "    Returns:\n",
    "    pd.Timestamp: A datetime object.\n",
    "    \"\"\"\n",
    "    return pd.to_datetime(str(time_index), format=\"%Y%m%d%H%M%S\")\n",
    "\n",
    "# Example usage\n",
    "time_index = 20090330120000\n",
    "datetime_value = convert_time_index(time_index)\n",
    "print(datetime_value)"
   ]
  },
  {
   "cell_type": "code",
   "execution_count": 2,
   "metadata": {},
   "outputs": [
    {
     "name": "stdout",
     "output_type": "stream",
     "text": [
      "       Time_index                Time  Strain\n",
      "0  20090330120000 2009-03-30 12:00:00     0.1\n"
     ]
    },
    {
     "name": "stderr",
     "output_type": "stream",
     "text": [
      "C:\\Users\\hpl886\\AppData\\Local\\Temp\\ipykernel_32944\\2971574464.py:13: FutureWarning: The behavior of DataFrame concatenation with empty or all-NA entries is deprecated. In a future version, this will no longer exclude empty or all-NA columns when determining the result dtypes. To retain the old behavior, exclude the relevant entries before the concat operation.\n",
      "  df = pd.concat([df, row], ignore_index=True)\n"
     ]
    }
   ],
   "source": [
    "import pandas as pd\n",
    "import numpy as np\n",
    "import matplotlib.pyplot as plt\n",
    "\n",
    "columns = ['Time_index', 'Time', 'Strain']\n",
    "df = pd.DataFrame(columns=columns)\n",
    "\n",
    "time_index = 20090330120000  # Corrected to 14 digits\n",
    "time = pd.to_datetime(str(time_index), format=\"%Y%m%d%H%M%S\")\n",
    "strain = 0.1\n",
    "\n",
    "row = pd.DataFrame([[time_index, time, strain]], columns=columns)\n",
    "df = pd.concat([df, row], ignore_index=True)\n",
    "\n",
    "print(df)"
   ]
  },
  {
   "cell_type": "code",
   "execution_count": null,
   "metadata": {},
   "outputs": [],
   "source": [
    "import os\n",
    "\n",
    "path_time = 'GÄB/20110109160000'\n",
    "path_pos ='EI_N-B_Far_Comp.txt'\n",
    "\n",
    "path = os.path.join(path_time, path_pos)\n",
    "\n",
    "df = pd.read_csv(path, delimiter='\\t', header=None)  # Assuming CSV-like structure\n",
    "\n",
    "row_name = 'N13, B, 12.64'\n",
    "column_number = 4  # Column 'B' is at index 1\n",
    "\n",
    "# Ensure that column_number is within the valid range\n",
    "if column_number < len(df.columns):\n",
    "    # Find the row based on a matching condition (adjust as necessary)\n",
    "    matching_row = df[df[0] == row_name]  # Assuming row_name is in column 0, adjust if needed\n",
    "\n",
    "    # Check if the row exists\n",
    "    if not matching_row.empty:\n",
    "        value = matching_row.iloc[0, column_number]\n",
    "    else:\n",
    "        print(\"No matching row found.\")\n",
    "else:\n",
    "    print(\"Invalid column number.\")"
   ]
  },
  {
   "cell_type": "code",
   "execution_count": null,
   "metadata": {},
   "outputs": [
    {
     "name": "stdout",
     "output_type": "stream",
     "text": [
      "3 subfolders found for the specified start and end times.\n"
     ]
    },
    {
     "name": "stderr",
     "output_type": "stream",
     "text": [
      "C:\\Users\\hpl886\\AppData\\Local\\Temp\\ipykernel_32944\\1502463149.py:36: FutureWarning: The behavior of DataFrame concatenation with empty or all-NA entries is deprecated. In a future version, this will no longer exclude empty or all-NA columns when determining the result dtypes. To retain the old behavior, exclude the relevant entries before the concat operation.\n",
      "  df = pd.concat([df, row], ignore_index=True)\n"
     ]
    }
   ],
   "source": [
    "start_time = '20100928120000'\n",
    "end_time = '20100928160000'\n",
    "path_pos ='EI_N-B_Far_Comp.txt'\n",
    "row_name = 'N13, B, 12.64'\n",
    "column_number = 4  # Column 'B' is at index 1\n",
    "\n",
    "main_path = 'GÄB'\n",
    "\n",
    "# List all subfolders in the main folder\n",
    "subfolders = [\n",
    "    name for name in os.listdir(main_path)\n",
    "    if os.path.isdir(os.path.join(main_path, name)) and name.isdigit()  # Check if folder name is a number\n",
    "]\n",
    "\n",
    "# Find the indexes of the start and end subfolders\n",
    "try:\n",
    "    start_index = subfolders.index(start_time)\n",
    "    end_index = subfolders.index(end_time)\n",
    "\n",
    "    # Extract subfolders between the start and end subfolder (exclusive)\n",
    "    subfolders_between = subfolders[start_index:end_index + 1]\n",
    "    \n",
    "    # Generate relative paths from the main folder\n",
    "    subfolder_relative_paths = [os.path.relpath(os.path.join(main_path, folder), main_path) for folder in subfolders_between]\n",
    "\n",
    "    print(len(subfolder_relative_paths), \"subfolders found for the specified start and end times.\")\n",
    "\n",
    "except ValueError:\n",
    "    print(\"One or both of the specified subfolders were not found.\")\n",
    "\n",
    "\n",
    "for subfolder in subfolder_relative_paths:\n",
    "    path = os.path.join(main_path, subfolder, path_pos)\n",
    "    df = pd.read_csv(path, delimiter='\\t', header=None) \n",
    "\n",
    "    # Ensure that column_number is within the valid range\n",
    "    if column_number < len(df.columns):\n",
    "        # Find the row based on a matching condition (adjust as necessary)\n",
    "        matching_row = df[df[0] == row_name]  # Assuming row_name is in column 0, adjust if needed\n",
    "\n",
    "        # Check if the row exists\n",
    "        if not matching_row.empty:\n",
    "            value = matching_row.iloc[0, column_number]\n",
    "            print(f\"Value at {subfolder}: {value}\")\n",
    "        else:\n",
    "            print(f\"No matching row found in {subfolder}.\")\n",
    "    else:\n",
    "        print(f\"Invalid column number in {subfolder}.\")\n",
    "\n",
    "# time_index = 20090330120000\n",
    "# time = pd.to_datetime(str(time_index), format=\"%Y%m%d%H%M%S\")\n",
    "# strain = 0.1\n",
    "\n",
    "row = pd.DataFrame([[time_index, time, strain]], columns=columns)\n",
    "df = pd.concat([df, row], ignore_index=True)"
   ]
  }
 ],
 "metadata": {
  "kernelspec": {
   "display_name": "exjobb",
   "language": "python",
   "name": "python3"
  },
  "language_info": {
   "codemirror_mode": {
    "name": "ipython",
    "version": 3
   },
   "file_extension": ".py",
   "mimetype": "text/x-python",
   "name": "python",
   "nbconvert_exporter": "python",
   "pygments_lexer": "ipython3",
   "version": "3.12.9"
  }
 },
 "nbformat": 4,
 "nbformat_minor": 2
}
