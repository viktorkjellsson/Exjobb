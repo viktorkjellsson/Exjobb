{
 "cells": [
  {
   "cell_type": "code",
   "execution_count": null,
   "id": "c1c60544",
   "metadata": {},
   "outputs": [],
   "source": [
    "import pandas as pd\n",
    "from pathlib import Path\n",
    "import sys\n",
    "import plotly.express as px\n",
    "import plotly.graph_objects as go\n",
    "\n",
    "# Add the root project directory to the Python path\n",
    "project_root = Path.cwd().parent  # This will get the project root since the notebook is in 'notebooks/'\n",
    "sys.path.append(str(project_root))\n",
    "from configs.path_config import OUTPUT_DIR, EXTRACTED_DATA_DIR\n",
    "from src.clustering import clustering_preprocess"
   ]
  },
  {
   "cell_type": "code",
   "execution_count": null,
   "id": "fe79a5f7",
   "metadata": {},
   "outputs": [],
   "source": [
    "path = OUTPUT_DIR / 'strain_distributions' / 'DPGMM' / 'C_step_size_7' / 'C_model.csv'\n",
    "data_with_dpgmm = pd.read_csv(path, delimiter=',')\n",
    "data_with_dpgmm.insert(\n",
    "    loc=3,\n",
    "    column='rolling_mean_prob',\n",
    "    value=data_with_dpgmm['Assigned_Cluster_Prob'].rolling(window=7, min_periods=1).mean()\n",
    ")\n",
    "\n",
    "path = EXTRACTED_DATA_DIR / 'strain_distributions' / 'alvbrodel_04' / 'S-C_Close_Comp_20091129120000_20210611160000_strain_distribution_04.csv'\n",
    "# path = OUTPUT_DIR / 'strain_distributions' / 'N-F_Mid_Comp_20091129120000_20210611160000_strain_distribution.csv'\n",
    "df = clustering_preprocess.load_data(path)"
   ]
  },
  {
   "cell_type": "code",
   "execution_count": null,
   "id": "b78e2d57",
   "metadata": {},
   "outputs": [],
   "source": [
    "df = clustering_preprocess.drop_columns_by_header_rules(df, threshold=0)\n",
    "df_strain, df = clustering_preprocess.remove_outliers(df, threshold=7, individual_threshold=7)\n",
    "\n",
    "n_components = 8\n",
    "normalized_pca_components, df_pca = clustering_preprocess.do_pca(n_components, df_strain, df)"
   ]
  },
  {
   "cell_type": "code",
   "execution_count": null,
   "id": "ca9bde63",
   "metadata": {},
   "outputs": [],
   "source": [
    "fig = px.line(data_with_dpgmm, x='Timestamp', y='Assigned_Cluster_Prob', color='Cluster', title='DPGMM Clustering Probabilities')\n",
    "fig.update_traces(marker=dict(size=5))"
   ]
  }
 ],
 "metadata": {
  "kernelspec": {
   "display_name": "exjobb",
   "language": "python",
   "name": "python3"
  },
  "language_info": {
   "codemirror_mode": {
    "name": "ipython",
    "version": 3
   },
   "file_extension": ".py",
   "mimetype": "text/x-python",
   "name": "python",
   "nbconvert_exporter": "python",
   "pygments_lexer": "ipython3",
   "version": "3.12.9"
  }
 },
 "nbformat": 4,
 "nbformat_minor": 5
}
