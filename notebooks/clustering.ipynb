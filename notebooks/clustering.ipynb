{
 "cells": [
  {
   "cell_type": "code",
   "execution_count": null,
   "id": "bfd623e3",
   "metadata": {},
   "outputs": [],
   "source": [
    "from pathlib import Path\n",
    "import pandas as pd\n",
    "import sys\n",
    "\n",
    "# Add the root project directory to the Python path\n",
    "project_root = Path.cwd().parent  # This will get the project root since the notebook is in 'notebooks/'\n",
    "sys.path.append(str(project_root))\n",
    "from configs.path_config import EXTRACTED_DATA_DIR, OUTPUT_DIR\n",
    "\n",
    "from src.clustering import clustering_preprocess #load_data, drop_columns_by_header_rules, remove_outliers, explain_variance, do_pca\n",
    "from src.clustering import clustering_models # kmeans_clustering, gmm_clustering, kl_divergence, jeffreys_divergence, merge_clusters_by_divergence, streaming_dpgmm_clustering\n",
    "from src.clustering import clustering_visualization #plot_clusters_over_time, plot_cluster_mean_and_std\n",
    "from src.clustering import sankey_diagram #plot_sankey_diagram"
   ]
  },
  {
   "cell_type": "markdown",
   "id": "19a6b077",
   "metadata": {},
   "source": [
    "### Data loading and preprocessing\n"
   ]
  },
  {
   "cell_type": "code",
   "execution_count": null,
   "id": "a33b15ea",
   "metadata": {},
   "outputs": [],
   "source": [
    "path = EXTRACTED_DATA_DIR / 'strain_distributions' / 'alvbrodel_04' / 'S-C_Close_Comp_20091129120000_20210611160000_strain_distribution_04.csv'\n",
    "# path = OUTPUT_DIR / 'strain_distributions' / 'N-F_Mid_Comp_20091129120000_20210611160000_strain_distribution.csv'\n",
    "df = clustering_preprocess.load_data(path)\n",
    "# df"
   ]
  },
  {
   "cell_type": "code",
   "execution_count": null,
   "id": "0f703bdc",
   "metadata": {},
   "outputs": [],
   "source": [
    "df = clustering_preprocess.drop_columns_by_header_rules(df, threshold=0)\n",
    "# df"
   ]
  },
  {
   "cell_type": "code",
   "execution_count": null,
   "id": "73278a19",
   "metadata": {},
   "outputs": [],
   "source": [
    "df_strain, df = clustering_preprocess.remove_outliers(df, threshold=7, individual_threshold=7)\n",
    "# df"
   ]
  },
  {
   "cell_type": "markdown",
   "id": "2d7121db",
   "metadata": {},
   "source": [
    "### Explained Variance by Number of Prinicipal Components "
   ]
  },
  {
   "cell_type": "code",
   "execution_count": null,
   "id": "2fdd9b9d",
   "metadata": {},
   "outputs": [],
   "source": [
    "clustering_preprocess.explain_variance(df_strain)"
   ]
  },
  {
   "cell_type": "code",
   "execution_count": null,
   "id": "3339c89e",
   "metadata": {},
   "outputs": [],
   "source": [
    "n_components = 8\n",
    "normalized_pca_components, df_pca = clustering_preprocess.do_pca(n_components, df_strain, df)"
   ]
  },
  {
   "cell_type": "markdown",
   "id": "43db8970",
   "metadata": {},
   "source": [
    "### GMM Clustering"
   ]
  },
  {
   "cell_type": "code",
   "execution_count": null,
   "id": "d34d483a",
   "metadata": {},
   "outputs": [],
   "source": [
    "# n_clusters = 10\n",
    "# data_with_gmm, cluster_color_map  = clustering_models.gmm_clustering(normalized_pca_components, df, n_clusters)\n",
    "# data_with_gmm"
   ]
  },
  {
   "cell_type": "code",
   "execution_count": null,
   "id": "ed06a36c",
   "metadata": {},
   "outputs": [],
   "source": [
    "# clustering_visualization.plot_clusters_over_time(data_with_gmm, cluster_color_map, 'GMM')"
   ]
  },
  {
   "cell_type": "code",
   "execution_count": null,
   "id": "c7672b8b",
   "metadata": {},
   "outputs": [],
   "source": [
    "# clusters_to_keep = ['all'] # 'all' or a list of cluster indices\n",
    "# clustering_visualization.plot_cluster_mean_and_std(data_with_gmm, clusters_to_keep, cluster_color_map, 'GMM')"
   ]
  },
  {
   "cell_type": "markdown",
   "id": "fd3cfa7e",
   "metadata": {},
   "source": [
    "### DPGMM Clustering"
   ]
  },
  {
   "cell_type": "code",
   "execution_count": null,
   "id": "0dbe7ae4",
   "metadata": {},
   "outputs": [],
   "source": [
    "data_with_dpgmm, cluster_color_map, cluster_dict = clustering_models.streaming_dpgmm_clustering(\n",
    "    normalized_pca_components=normalized_pca_components,\n",
    "    df=df,\n",
    "    prior=0.1,                # Decides how restrictive the model is when creating new clusters the lower the more restrictive\n",
    "    n_points=1095,            # Number of points to use for the initial clustering, 3 years\n",
    "    window_size=180,          # Size of the sliding window, 0,5 years\n",
    "    step_size=90,             # Step size for the sliding window, 3 months\n",
    "    max_components=100,       # Maximum number of components to use in the model\n",
    "    merge_threshold=7,        # Threshold for merging clusters\n",
    ")"
   ]
  },
  {
   "cell_type": "markdown",
   "id": "3f010ce4",
   "metadata": {},
   "source": [
    "### Plot the Cluster Assignment over Time"
   ]
  },
  {
   "cell_type": "code",
   "execution_count": null,
   "id": "0bd2e873",
   "metadata": {},
   "outputs": [],
   "source": [
    "clustering_visualization.plot_clusters_over_time(data_with_dpgmm, cluster_color_map, 'DPGMM')"
   ]
  },
  {
   "cell_type": "code",
   "execution_count": null,
   "id": "ed5e6daa",
   "metadata": {},
   "outputs": [],
   "source": [
    "new_data_with_dpgmm = data_with_dpgmm[data_with_dpgmm['Assigned_Cluster_Prob'] > 1e-2]\n",
    "new_data_with_dpgmm.shape "
   ]
  },
  {
   "cell_type": "markdown",
   "id": "231c7590",
   "metadata": {},
   "source": [
    "### Cluster Visualization\n",
    "Visualizes the representative strain distribution of each cluster in the form of mean strain (dark) and standard deviation of strain (light shade)."
   ]
  },
  {
   "cell_type": "code",
   "execution_count": null,
   "id": "41a434cf",
   "metadata": {},
   "outputs": [],
   "source": [
    "clusters_to_keep = [0, 4] # 'all' or a list of cluster indices\n",
    "clustering_visualization.plot_cluster_mean_and_std(data_with_dpgmm, clusters_to_keep, cluster_color_map, 'DPGMM')"
   ]
  },
  {
   "cell_type": "markdown",
   "id": "56838845",
   "metadata": {},
   "source": [
    "### Plot Sankey Diagram\n",
    "Visualizes trainsitions between and merges of clusters after each step of the sliding window in the clustering algorithm. "
   ]
  },
  {
   "cell_type": "code",
   "execution_count": null,
   "id": "60117677",
   "metadata": {},
   "outputs": [],
   "source": [
    "cluster_dict_converted = {\n",
    "    pd.to_datetime(key, format=\"%Y-%m-%d\").date(): value\n",
    "    for key, value in cluster_dict.items()\n",
    "}\n",
    "# cluster_dict_converted = {\n",
    "#     pd.to_datetime(k, format=\"%Y-%m-%d\").date(): cluster_dict[k]\n",
    "#     for i, k in enumerate(cluster_dict)\n",
    "#     if i % 12 == 0\n",
    "# }\n",
    "\n",
    "links = sankey_diagram.build_sankey_links_from_cluster_dict(cluster_dict_converted)\n",
    "nodes, source, target, value = sankey_diagram.prepare_sankey_data(links)\n",
    "\n",
    "sankey_diagram.plot_sankey(\n",
    "    nodes, \n",
    "    source,\n",
    "    target, \n",
    "    value, \n",
    "    title=\"Cluster transitions over time (90 day intervals)\", \n",
    "    save_path=OUTPUT_DIR / 'strain_distributions' / 'DPGMM' / \"sankey_diagram_90_day_intervals.pdf\", \n",
    "    save = True\n",
    ")"
   ]
  }
 ],
 "metadata": {
  "kernelspec": {
   "display_name": "exjobb",
   "language": "python",
   "name": "python3"
  },
  "language_info": {
   "codemirror_mode": {
    "name": "ipython",
    "version": 3
   },
   "file_extension": ".py",
   "mimetype": "text/x-python",
   "name": "python",
   "nbconvert_exporter": "python",
   "pygments_lexer": "ipython3",
   "version": "3.12.9"
  }
 },
 "nbformat": 4,
 "nbformat_minor": 5
}
