{
 "cells": [
  {
   "cell_type": "code",
   "execution_count": null,
   "id": "bfd623e3",
   "metadata": {},
   "outputs": [],
   "source": [
    "from pathlib import Path\n",
    "import pandas as pd\n",
    "import matplotlib.pyplot as plt\n",
    "import seaborn as sns\n",
    "import numpy as np\n",
    "from datetime import datetime\n",
    "import sys\n",
    "from sklearn.decomposition import PCA\n",
    "from sklearn.preprocessing import StandardScaler, MinMaxScaler\n",
    "from sklearn.cluster import KMeans\n",
    "from sklearn.metrics import silhouette_score, davies_bouldin_score\n",
    "from sklearn.mixture import GaussianMixture, BayesianGaussianMixture\n",
    "from sklearn.cluster import DBSCAN\n",
    "import plotly.graph_objects as go\n",
    "\n",
    "# Add the root project directory to the Python path\n",
    "project_root = Path.cwd().parent  # This will get the project root since the notebook is in 'notebooks/'\n",
    "sys.path.append(str(project_root))\n",
    "from configs.path_config import EXTRACTED_DATA_DIR, OUTPUT_DIR\n",
    "\n",
    "from src.clustering import clustering_preprocess #load_data, drop_columns_by_header_rules, remove_outliers, explain_variance, do_pca\n",
    "from src.clustering import clustering_models # kmeans_clustering, gmm_clustering, kl_divergence, jeffreys_divergence, merge_clusters_by_divergence, streaming_dpgmm_clustering\n",
    "from src.clustering import clustering_visualization #plot_clusters_over_time, plot_cluster_mean_and_std"
   ]
  },
  {
   "cell_type": "markdown",
   "id": "19a6b077",
   "metadata": {},
   "source": [
    "### Data loading and preprocessing\n"
   ]
  },
  {
   "cell_type": "code",
   "execution_count": null,
   "id": "a33b15ea",
   "metadata": {},
   "outputs": [],
   "source": [
    "path = EXTRACTED_DATA_DIR / 'strain_distributions' / 'alvbrodel_04' / 'S-B_Close_Comp_20091129120000_20210611160000_strain_distribution_04 1.csv'\n",
    "# path = OUTPUT_DIR / 'strain_distributions' / 'N-F_Mid_Comp_20091129120000_20210611160000_strain_distribution.csv'\n",
    "df = clustering_preprocess.load_data(path)\n",
    "# df"
   ]
  },
  {
   "cell_type": "code",
   "execution_count": null,
   "id": "0f703bdc",
   "metadata": {},
   "outputs": [],
   "source": [
    "df = clustering_preprocess.drop_columns_by_header_rules(df, threshold=0)\n",
    "# df"
   ]
  },
  {
   "cell_type": "code",
   "execution_count": null,
   "id": "73278a19",
   "metadata": {},
   "outputs": [],
   "source": [
    "df_strain, df = clustering_preprocess.remove_outliers(df, threshold=7, individual_threshold=7)\n",
    "# df"
   ]
  },
  {
   "cell_type": "code",
   "execution_count": null,
   "id": "2fdd9b9d",
   "metadata": {},
   "outputs": [],
   "source": [
    "clustering_preprocess.explain_variance(df_strain)"
   ]
  },
  {
   "cell_type": "code",
   "execution_count": null,
   "id": "3339c89e",
   "metadata": {},
   "outputs": [],
   "source": [
    "n_components = 10\n",
    "normalized_pca_components, df_pca = clustering_preprocess.do_pca(n_components, df_strain, df)"
   ]
  },
  {
   "cell_type": "markdown",
   "id": "43db8970",
   "metadata": {},
   "source": [
    "### GMM Clustering"
   ]
  },
  {
   "cell_type": "code",
   "execution_count": null,
   "id": "d34d483a",
   "metadata": {},
   "outputs": [],
   "source": [
    "n_clusters = 10\n",
    "data_with_gmm = clustering_models.gmm_clustering(normalized_pca_components, df, n_clusters)\n",
    "# data_with_gmm"
   ]
  },
  {
   "cell_type": "code",
   "execution_count": null,
   "id": "ed06a36c",
   "metadata": {},
   "outputs": [],
   "source": [
    "clustering_visualization.plot_clusters_over_time(data_with_gmm, 'GMM')"
   ]
  },
  {
   "cell_type": "code",
   "execution_count": null,
   "id": "c7672b8b",
   "metadata": {},
   "outputs": [],
   "source": [
    "clusters_to_keep = [8, 9] # 'all' or a list of cluster indices\n",
    "clustering_visualization.plot_cluster_mean_and_std(data_with_gmm, clusters_to_keep, 'GMM')"
   ]
  },
  {
   "cell_type": "markdown",
   "id": "fd3cfa7e",
   "metadata": {},
   "source": [
    "### DPGMM Clustering"
   ]
  },
  {
   "cell_type": "code",
   "execution_count": null,
   "id": "0dbe7ae4",
   "metadata": {},
   "outputs": [],
   "source": [
    "data_with_dpgmm, _ = clustering_models.streaming_dpgmm_clustering(\n",
    "    normalized_pca_components=normalized_pca_components,\n",
    "    df=df,\n",
    "    n_points=1000,\n",
    "    window_size=400,\n",
    "    step_size=100,\n",
    "    max_components=100,\n",
    "    merge_threshold=60,\n",
    "    merge_within_window=True  # Toggle ON/OFF\n",
    ")"
   ]
  },
  {
   "cell_type": "code",
   "execution_count": null,
   "id": "0bd2e873",
   "metadata": {},
   "outputs": [],
   "source": [
    "clustering_visualization.plot_clusters_over_time(data_with_dpgmm, 'DPGMM')"
   ]
  },
  {
   "cell_type": "code",
   "execution_count": null,
   "id": "41a434cf",
   "metadata": {},
   "outputs": [],
   "source": [
    "clusters_to_keep = ['all'] # 'all' or a list of cluster indices\n",
    "clustering_visualization.plot_cluster_mean_and_std(data_with_dpgmm, clusters_to_keep, 'DPGMM')"
   ]
  }
 ],
 "metadata": {
  "kernelspec": {
   "display_name": "exjobb",
   "language": "python",
   "name": "python3"
  },
  "language_info": {
   "codemirror_mode": {
    "name": "ipython",
    "version": 3
   },
   "file_extension": ".py",
   "mimetype": "text/x-python",
   "name": "python",
   "nbconvert_exporter": "python",
   "pygments_lexer": "ipython3",
   "version": "3.12.9"
  }
 },
 "nbformat": 4,
 "nbformat_minor": 5
}
