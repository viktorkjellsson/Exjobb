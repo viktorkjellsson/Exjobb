{
 "cells": [
  {
   "cell_type": "code",
   "execution_count": null,
   "metadata": {},
   "outputs": [],
   "source": [
    "from sklearn.preprocessing import MinMaxScaler\n",
    "import numpy as np\n",
    "import pandas as pd\n",
    "import matplotlib.pyplot as plt\n",
    "import sys\n",
    "from pathlib import Path\n",
    "import plotly.graph_objects as go"
   ]
  },
  {
   "cell_type": "code",
   "execution_count": null,
   "metadata": {},
   "outputs": [],
   "source": [
    "# Add the root project directory to the Python path\n",
    "project_root = Path.cwd().parent  # This will get the project root since the notebook is in 'notebooks/'\n",
    "sys.path.append(str(project_root))\n",
    "\n",
    "from configs.path_config import EXTRACTED_DATA_DIR\n",
    "\n",
    "base_dir = EXTRACTED_DATA_DIR\n",
    "file = 'N-B_Mid2_Comp.txt_N10, B, 0.11.csv'\n",
    "path = Path(base_dir) / 'group1' / file\n",
    "\n",
    "print(path)\n",
    "\n",
    "df = pd.read_csv(path, parse_dates=['Time'])\n",
    "\n",
    "plt.figure(figsize=(10, 6))\n",
    "plt.plot(df['Time'], df['Strain'], linestyle='-')\n",
    "plt.xlabel('Time')\n",
    "plt.ylabel('Strain')\n",
    "plt.title(f'Strain for {file}')\n",
    "plt.show()"
   ]
  },
  {
   "cell_type": "code",
   "execution_count": null,
   "metadata": {},
   "outputs": [],
   "source": [
    "from src.processing import preprocessing\n",
    "\n",
    "df = preprocessing.clean_zeros_outliers_interpolate(df)\n",
    "\n",
    "df_original = df.copy()\n",
    "df_mean = df.copy()"
   ]
  },
  {
   "cell_type": "code",
   "execution_count": null,
   "metadata": {},
   "outputs": [],
   "source": [
    "#indentify the regions of missing values\n",
    "from src.processing import nan_regions #nan_regions.py\n",
    "\n",
    "threshold = 5 # Choose the threshold(s) for consecutive NaNs\n",
    "consecutive_nan_regions, nan_regions_sorted = nan_regions.find_nan_regions(df, threshold)\n",
    "\n",
    "# for threshold in thresholds:\n",
    "\n",
    "fig = go.Figure()\n",
    "\n",
    "# Add strain data line\n",
    "fig.add_trace(go.Scatter(x=df['Time'], y=df['Strain'], mode='lines', name='Strain Data'))\n",
    "\n",
    "# Shade regions with more than x consecutive NaNs\n",
    "for start, end in consecutive_nan_regions:\n",
    "    fig.add_vrect(\n",
    "        x0=df['Time'].loc[start], x1=df['Time'].loc[end],\n",
    "        fillcolor='red', opacity=0.3, layer='below', line_width=0\n",
    "    )\n",
    "\n",
    "# Print NaN regions information\n",
    "for column in nan_regions_sorted:\n",
    "    print(f\"Length: {column[4]}, Start Time: {column[2]}, End Time: {column[3]}\")\n",
    "\n",
    "# Figure layout\n",
    "fig.update_layout(\n",
    "    title=f'Regions of more than {threshold} consecutive NaNs',\n",
    "    xaxis_title='Time',\n",
    "    yaxis_title='Strain',\n",
    "    legend=dict(x=0, y=1),\n",
    ")\n",
    "\n",
    "fig.show()\n"
   ]
  },
  {
   "cell_type": "code",
   "execution_count": null,
   "metadata": {},
   "outputs": [],
   "source": [
    "from src.processing import shift_region \n",
    "\n",
    "n_points = 15\n",
    "std_multiplier = 4.6\n",
    "min_region_size = 5\n",
    "df_diff = shift_region.shift_scale_diff(df, std_multiplier, n_points, n_points, min_region_size)"
   ]
  },
  {
   "cell_type": "code",
   "execution_count": null,
   "metadata": {},
   "outputs": [],
   "source": [
    "from src.processing import interpolate_nan\n",
    "from src.processing import nan_regions\n",
    "\n",
    "interpolate_threshold = 5\n",
    "\n",
    "consecutive_nan_regions, nan_regions_sorted = nan_regions.find_nan_regions(df, threshold=1)\n",
    "\n",
    "df_filled = interpolate_nan.interpolate(df, nan_regions_sorted, interpolate_threshold)"
   ]
  }
 ],
 "metadata": {
  "language_info": {
   "name": "python"
  }
 },
 "nbformat": 4,
 "nbformat_minor": 2
}
