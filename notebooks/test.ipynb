{
 "cells": [
  {
   "cell_type": "markdown",
   "id": "80f8270e",
   "metadata": {},
   "source": [
    "# Test"
   ]
  },
  {
   "cell_type": "markdown",
   "id": "b71076b4",
   "metadata": {},
   "source": [
    "#### Import the necessary libraries"
   ]
  },
  {
   "cell_type": "code",
   "execution_count": null,
   "id": "b1476aec",
   "metadata": {},
   "outputs": [],
   "source": [
    "from pathlib import Path\n",
    "import pandas as pd\n",
    "import numpy as np\n",
    "import sys\n",
    "import torch\n",
    "\n",
    "# Add the root project directory to the Python path\n",
    "ROOT = Path.cwd().parent  # This will get the project root since the notebook is in 'notebooks/'\n",
    "sys.path.append(str(ROOT))\n",
    "from configs.path_config import EXTRACTED_DATA_DIR, WEIGHTS_DIR, FEATURES\n",
    "from src.processing import dataset\n",
    "from src import utils"
   ]
  },
  {
   "cell_type": "markdown",
   "id": "d6b56586",
   "metadata": {},
   "source": [
    "#### Create the data loader"
   ]
  },
  {
   "cell_type": "code",
   "execution_count": null,
   "id": "4992b42c",
   "metadata": {},
   "outputs": [],
   "source": [
    "folder_path = EXTRACTED_DATA_DIR / 'group_alvbrodel'\n",
    "data = dataset.StrainDataset(folder_path, FEATURES, sequence_length=128, start_idx=11112, test_size=0.3)"
   ]
  },
  {
   "cell_type": "markdown",
   "id": "e153dbdb",
   "metadata": {},
   "source": [
    "#### Load the model"
   ]
  },
  {
   "cell_type": "code",
   "execution_count": null,
   "id": "6e58de63",
   "metadata": {},
   "outputs": [],
   "source": [
    "model = torch.load(WEIGHTS_DIR / 'lstm_model_4_54_1_5_0.01_0.3.pth')\n",
    "print(model)"
   ]
  },
  {
   "cell_type": "markdown",
   "id": "4a929a62",
   "metadata": {},
   "source": [
    "#### Plot the anomalies"
   ]
  },
  {
   "cell_type": "code",
   "execution_count": null,
   "id": "02881a53",
   "metadata": {},
   "outputs": [],
   "source": [
    "N = len(data.test_data)\n",
    "\n",
    "feature_names = data.feature_names\n",
    "timestamps = pd.DatetimeIndex(np.concatenate(data.timestamps_test))[:N]\n",
    "\n",
    "reconstructed = utils.plot_reconstruction(data.test_data, model, N, feature_names, timestamps, mode=3)"
   ]
  }
 ],
 "metadata": {
  "kernelspec": {
   "display_name": "exjobb",
   "language": "python",
   "name": "python3"
  },
  "language_info": {
   "codemirror_mode": {
    "name": "ipython",
    "version": 3
   },
   "file_extension": ".py",
   "mimetype": "text/x-python",
   "name": "python",
   "nbconvert_exporter": "python",
   "pygments_lexer": "ipython3",
   "version": "3.12.9"
  }
 },
 "nbformat": 4,
 "nbformat_minor": 5
}
