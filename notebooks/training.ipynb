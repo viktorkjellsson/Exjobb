{
 "cells": [
  {
   "cell_type": "markdown",
   "metadata": {},
   "source": [
    "# Training"
   ]
  },
  {
   "cell_type": "code",
   "execution_count": null,
   "metadata": {},
   "outputs": [],
   "source": [
    "from pathlib import Path\n",
    "from dataclasses import dataclass\n",
    "import sys\n",
    "\n",
    "# Add the root project directory to the Python path\n",
    "ROOT = Path.cwd().parent  # This will get the project root since the notebook is in 'notebooks/'\n",
    "sys.path.append(str(ROOT))\n",
    "from configs.path_config import EXTRACTED_DATA_DIR, WEIGHTS_DIR, INPUT_FEATURES, OUTPUT_FEATURES\n",
    "from src.processing import dataset\n",
    "from models import lstm_model\n",
    "from src import utils"
   ]
  },
  {
   "cell_type": "markdown",
   "metadata": {},
   "source": [
    "#### Create the train data loader"
   ]
  },
  {
   "cell_type": "code",
   "execution_count": null,
   "metadata": {},
   "outputs": [],
   "source": [
    "folder_path = EXTRACTED_DATA_DIR / 'group_alvbrodel_shifted'\n",
    "data = dataset.StrainDataset(folder_path, INPUT_FEATURES, OUTPUT_FEATURES, sequence_length=128, start_idx=0, test_size=0.3)\n",
    "train_loader = data.train_dataloader"
   ]
  },
  {
   "cell_type": "markdown",
   "metadata": {},
   "source": [
    "#### Train the model"
   ]
  },
  {
   "cell_type": "code",
   "execution_count": null,
   "metadata": {},
   "outputs": [],
   "source": [
    "# Model parameters\n",
    "# input_dim = data.feature_count\n",
    "input_dim = data.input_feature_count  # Number of input features\n",
    "output_dim = data.output_feature_count  # Number of output features\n",
    "print(f\"Input dimension: {input_dim}\")\n",
    "print(f\"Output dimension: {output_dim}\")\n",
    "hidden_dim=32\n",
    "num_layers=1\n",
    "num_epochs=5\n",
    "learning_rate=0.01\n",
    "dropout = 0.4\n",
    "# weight_decay = 0\n",
    "\n",
    "\n",
    "# Location and name for saving the model\n",
    "model_folder = WEIGHTS_DIR\n",
    "# model_name = f'lstm_model_{input_dim}_{hidden_dim}_{num_layers}_{num_epochs}_{learning_rate}_{dropout}_{weight_decay}.pth'\n",
    "model_name = f'lstm_model_{input_dim}_{hidden_dim}_{num_layers}_{num_epochs}_{learning_rate}_{dropout}.pth'\n",
    "\n",
    "# Create the model and train it\n",
    "model = lstm_model.LSTMModel(input_dim, input_dim, hidden_dim, num_layers, dropout)\n",
    "# losses, prediction = lstm_model.training_loop(model, train_loader, num_epochs, weight_decay, learning_rate, model_folder, model_name)\n",
    "losses, prediction = lstm_model.training_loop(\n",
    "    model=model,\n",
    "    train_loader=train_loader,\n",
    "    num_epochs=num_epochs,\n",
    "    learning_rate=learning_rate,\n",
    "    model_folder=model_folder,\n",
    "    model_name=model_name,\n",
    "    input_features=INPUT_FEATURES,\n",
    "    output_features=OUTPUT_FEATURES\n",
    ")\n"
   ]
  },
  {
   "cell_type": "markdown",
   "metadata": {},
   "source": [
    "#### Plot the epoch losses"
   ]
  },
  {
   "cell_type": "code",
   "execution_count": null,
   "metadata": {},
   "outputs": [],
   "source": [
    "utils.plot_epochs_loss(num_epochs, losses)"
   ]
  }
 ],
 "metadata": {
  "kernelspec": {
   "display_name": "exjobb",
   "language": "python",
   "name": "python3"
  },
  "language_info": {
   "codemirror_mode": {
    "name": "ipython",
    "version": 3
   },
   "file_extension": ".py",
   "mimetype": "text/x-python",
   "name": "python",
   "nbconvert_exporter": "python",
   "pygments_lexer": "ipython3",
   "version": "3.12.9"
  }
 },
 "nbformat": 4,
 "nbformat_minor": 2
}
