{
 "cells": [
  {
   "cell_type": "markdown",
   "metadata": {},
   "source": [
    "# Training"
   ]
  },
  {
   "cell_type": "code",
   "execution_count": null,
   "metadata": {},
   "outputs": [],
   "source": [
    "from pathlib import Path\n",
    "from dataclasses import dataclass\n",
    "import pandas as pd\n",
    "import matplotlib.pyplot as plt\n",
    "import numpy as np\n",
    "import sys\n",
    "from torch.utils.data import Dataset, DataLoader\n",
    "import torch\n",
    "import json\n",
    "\n",
    "# Add the root project directory to the Python path\n",
    "ROOT = Path.cwd().parent  # This will get the project root since the notebook is in 'notebooks/'\n",
    "sys.path.append(str(ROOT))\n",
    "from configs.path_config import EXTRACTED_DATA_DIR, WEIGHTS_DIR, GROUP2S\n",
    "from src.processing import dataset\n",
    "from models import lstm_model\n",
    "from src import utils"
   ]
  },
  {
   "cell_type": "code",
   "execution_count": null,
   "metadata": {},
   "outputs": [],
   "source": [
    "folder_path = EXTRACTED_DATA_DIR / 'g2s'\n",
    "data = dataset.StrainDataset(folder_path, sequence_length=128, start_idx=11112, test_size=0.2)\n",
    "train_loader = data.train_dataloader\n",
    "\n",
    "input_dim = data.feature_count\n",
    "hidden_dim=16\n",
    "num_layers=1\n",
    "num_epochs=5\n",
    "learning_rate=0.001\n",
    "\n",
    "model = lstm_model.LSTMModel(input_dim, hidden_dim, num_layers)\n",
    "\n",
    "losses, prediction = lstm_model.training_loop(model, train_loader, num_epochs, learning_rate)\n",
    "\n",
    "train_loader = data.train_dataloader"
   ]
  },
  {
   "cell_type": "code",
   "execution_count": null,
   "metadata": {},
   "outputs": [],
   "source": [
    "utils.plot_epochs_loss(num_epochs, losses)"
   ]
  },
  {
   "cell_type": "code",
   "execution_count": null,
   "metadata": {},
   "outputs": [],
   "source": [
    "N = len(data.test_data)\n",
    "\n",
    "feature_names = data.file_names\n",
    "# timestamps = data.timestamps\n",
    "timestamps = pd.DatetimeIndex(np.concatenate(data.timestamps_test))[:N]\n",
    "# timestamps = data.timestamps_test\n",
    "timestamps\n",
    "\n",
    "utils.plot_reconstruction(data.test_data, model, N, feature_names, timestamps)"
   ]
  },
  {
   "cell_type": "code",
   "execution_count": null,
   "metadata": {},
   "outputs": [],
   "source": [
    "print(data.test_data)"
   ]
  },
  {
   "cell_type": "code",
   "execution_count": null,
   "metadata": {},
   "outputs": [],
   "source": [
    "# import plotly.graph_objects as go\n",
    "# import torch\n",
    "# import numpy as np\n",
    "# import pandas as pd\n",
    "\n",
    "# # Get timestamps from data\n",
    "# timestamps = data.get_timestamps()\n",
    "\n",
    "# # Convert timestamps to a NumPy array and then to pandas datetime format\n",
    "# timestamps = np.concatenate(timestamps)  # Flatten the list if needed\n",
    "# timestamps = pd.to_datetime(timestamps)  # Convert to datetime format\n",
    "\n",
    "# # Select fewer tick labels for better readability\n",
    "# max_ticks = 10\n",
    "# tick_indices = np.linspace(0, len(timestamps) - 1, num=max_ticks, dtype=int)\n",
    "# tick_values = timestamps[tick_indices]\n",
    "# tick_texts = tick_values.strftime(\"%Y-%m-%d %H:%M:%S\")  # Format as readable strings\n",
    "\n",
    "# # Convert train data and predictions to NumPy arrays\n",
    "# train_data_np = data.train_data.cpu().numpy()\n",
    "# prediction_np = prediction.detach().cpu().numpy()\n",
    "\n",
    "# # Plotly figure setup\n",
    "# fig = go.Figure()\n",
    "\n",
    "# fig.add_trace(go.Scatter(x=timestamps, y=train_data_np, mode='lines', name='Original Data'))\n",
    "# fig.add_trace(go.Scatter(x=timestamps, y=prediction_np, mode='lines', name='Reconstructed Data'))\n",
    "\n",
    "# fig.update_layout(\n",
    "#     title='LSTM Reconstruction vs. Original Data',\n",
    "#     xaxis_title='Time',\n",
    "#     yaxis_title='Strain',\n",
    "#     template='plotly_white',\n",
    "#     xaxis=dict(\n",
    "#         tickmode='array',\n",
    "#         tickvals=tick_values,  # Selected timestamps as tick positions\n",
    "#         ticktext=tick_texts    # Formatted datetime labels\n",
    "#     )\n",
    "# )\n",
    "\n",
    "# fig.show()\n"
   ]
  }
 ],
 "metadata": {
  "kernelspec": {
   "display_name": "exjobb",
   "language": "python",
   "name": "python3"
  },
  "language_info": {
   "codemirror_mode": {
    "name": "ipython",
    "version": 3
   },
   "file_extension": ".py",
   "mimetype": "text/x-python",
   "name": "python",
   "nbconvert_exporter": "python",
   "pygments_lexer": "ipython3",
   "version": "3.12.9"
  }
 },
 "nbformat": 4,
 "nbformat_minor": 2
}
