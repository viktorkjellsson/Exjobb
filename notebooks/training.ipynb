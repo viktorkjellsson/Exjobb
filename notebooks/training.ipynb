{
 "cells": [
  {
   "cell_type": "markdown",
   "metadata": {},
   "source": [
    "# Training"
   ]
  },
  {
   "cell_type": "code",
   "execution_count": null,
   "metadata": {},
   "outputs": [],
   "source": [
    "from pathlib import Path\n",
    "import sys\n",
    "\n",
    "ROOT = Path.cwd().parent\n",
    "sys.path.append(str(ROOT))\n",
    "from configs.path_config import EXTRACTED_DATA_DIR, MODEL_DIR\n",
    "from configs.model_config import INPUT_FEATURES, OUTPUT_FEATURES, PARAMS\n",
    "from src.processing import dataset\n",
    "from models import lstm_model\n",
    "from src import utils"
   ]
  },
  {
   "cell_type": "markdown",
   "metadata": {},
   "source": [
    "#### Create the train data loader"
   ]
  },
  {
   "cell_type": "code",
   "execution_count": null,
   "metadata": {},
   "outputs": [],
   "source": [
    "folder_path = EXTRACTED_DATA_DIR / 'group_alvbrodel_shifted'\n",
    "data = dataset.StrainDataset(\n",
    "    folder_path, \n",
    "    INPUT_FEATURES, \n",
    "    OUTPUT_FEATURES, \n",
    "    sequence_length=PARAMS['sequence_length'], \n",
    "    batch_size=PARAMS['batch_size'],\n",
    "    test_size=PARAMS['test_size'], \n",
    "    start_idx=0)\n",
    "\n",
    "train_loader = data.train_dataloader"
   ]
  },
  {
   "cell_type": "markdown",
   "metadata": {},
   "source": [
    "#### Train the model"
   ]
  },
  {
   "cell_type": "code",
   "execution_count": null,
   "metadata": {},
   "outputs": [],
   "source": [
    "# Input and output features\n",
    "input_feature_names = data.input_feature_names  # List of input feature names\n",
    "output_feature_names = data.output_feature_names  # List of output feature names\n",
    "print(f\"Input feature names: {input_feature_names}\")\n",
    "print(f\"Output feature names: {output_feature_names}\")\n",
    "input_dim = data.input_feature_count  # Number of input features\n",
    "output_dim = data.output_feature_count  # Number of output features\n",
    "print(f\"Input dimension: {input_dim}\")\n",
    "print(f\"Output dimension: {output_dim}\")\n",
    "\n",
    "# Model parameters from path_config.py\n",
    "hidden_dim = PARAMS['hidden_dim']\n",
    "num_layers = PARAMS['num_layers']\n",
    "num_epochs = PARAMS['num_epochs']\n",
    "learning_rate = PARAMS['learning_rate']\n",
    "dropout = PARAMS['dropout']\n",
    "\n",
    "# Create the model and train it\n",
    "model = lstm_model.LSTMModel(input_dim, input_dim, hidden_dim, num_layers, dropout)\n",
    "print(model)\n",
    "\n",
    "losses, prediction = lstm_model.training_loop(\n",
    "    model=model,\n",
    "    train_loader=train_loader,\n",
    "    num_epochs=num_epochs,\n",
    "    learning_rate=learning_rate,\n",
    "    models_folder=MODEL_DIR,\n",
    "    model_subname='all',\n",
    "    input_features=INPUT_FEATURES,\n",
    "    output_features=OUTPUT_FEATURES, \n",
    "    input_feature_names=input_feature_names,\n",
    "    output_feature_names=output_feature_names,\n",
    ")"
   ]
  },
  {
   "cell_type": "markdown",
   "metadata": {},
   "source": [
    "#### Plot the epoch losses"
   ]
  },
  {
   "cell_type": "code",
   "execution_count": null,
   "metadata": {},
   "outputs": [],
   "source": [
    "utils.plot_epochs_loss(num_epochs, losses)"
   ]
  }
 ],
 "metadata": {
  "kernelspec": {
   "display_name": "exjobb",
   "language": "python",
   "name": "python3"
  },
  "language_info": {
   "codemirror_mode": {
    "name": "ipython",
    "version": 3
   },
   "file_extension": ".py",
   "mimetype": "text/x-python",
   "name": "python",
   "nbconvert_exporter": "python",
   "pygments_lexer": "ipython3",
   "version": "3.12.9"
  }
 },
 "nbformat": 4,
 "nbformat_minor": 2
}
