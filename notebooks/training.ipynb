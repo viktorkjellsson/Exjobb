{
 "cells": [
  {
   "cell_type": "markdown",
   "metadata": {},
   "source": [
    "# Training"
   ]
  },
  {
   "cell_type": "code",
   "execution_count": null,
   "metadata": {},
   "outputs": [],
   "source": [
    "from pathlib import Path\n",
    "from dataclasses import dataclass\n",
    "import sys\n",
    "\n",
    "# Add the root project directory to the Python path\n",
    "ROOT = Path.cwd().parent  # This will get the project root since the notebook is in 'notebooks/'\n",
    "sys.path.append(str(ROOT))\n",
    "from configs.path_config import EXTRACTED_DATA_DIR, WEIGHTS_DIR\n",
    "from src.processing import dataset\n",
    "from models import lstm_model\n",
    "from src import utils"
   ]
  },
  {
   "cell_type": "markdown",
   "metadata": {},
   "source": [
    "#### Create the train data loader"
   ]
  },
  {
   "cell_type": "code",
   "execution_count": null,
   "metadata": {},
   "outputs": [],
   "source": [
    "folder_path = EXTRACTED_DATA_DIR / 'group2_south'\n",
    "data = dataset.StrainDataset(folder_path, sequence_length=128, start_idx=11112, test_size=0.3)\n",
    "train_loader = data.train_dataloader"
   ]
  },
  {
   "cell_type": "markdown",
   "metadata": {},
   "source": [
    "#### Train the model"
   ]
  },
  {
   "cell_type": "code",
   "execution_count": null,
   "metadata": {},
   "outputs": [],
   "source": [
    "# Model parameters\n",
    "input_dim = data.feature_count\n",
    "hidden_dim=32\n",
    "num_layers=2\n",
    "num_epochs=5\n",
    "learning_rate=0.001\n",
    "\n",
    "\n",
    "# Location and name for saving the model\n",
    "model_folder = WEIGHTS_DIR\n",
    "model_name = f'lstm_model_{input_dim}_{hidden_dim}_{num_layers}_{num_epochs}_{learning_rate}.pth'\n",
    "\n",
    "# Create the model and train it\n",
    "model = lstm_model.LSTMModel(input_dim, hidden_dim, num_layers)\n",
    "losses, prediction = lstm_model.training_loop(model, train_loader, num_epochs, learning_rate, model_folder, model_name)"
   ]
  },
  {
   "cell_type": "markdown",
   "metadata": {},
   "source": [
    "#### Plot the epoch losses"
   ]
  },
  {
   "cell_type": "code",
   "execution_count": null,
   "metadata": {},
   "outputs": [],
   "source": [
    "utils.plot_epochs_loss(num_epochs, losses)"
   ]
  }
 ],
 "metadata": {
  "kernelspec": {
   "display_name": "exjobb",
   "language": "python",
   "name": "python3"
  },
  "language_info": {
   "codemirror_mode": {
    "name": "ipython",
    "version": 3
   },
   "file_extension": ".py",
   "mimetype": "text/x-python",
   "name": "python",
   "nbconvert_exporter": "python",
   "pygments_lexer": "ipython3",
   "version": "3.12.9"
  }
 },
 "nbformat": 4,
 "nbformat_minor": 2
}
